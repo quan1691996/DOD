{
 "cells": [
  {
   "cell_type": "code",
   "execution_count": 1,
   "id": "122a7d53-8856-4058-9920-cf89def708c3",
   "metadata": {},
   "outputs": [],
   "source": [
    "import pandas as pd\n",
    "import numpy as np\n",
    "import matplotlib.pyplot as plt\n",
    "from sklearn.decomposition import TruncatedSVD\n",
    "from sklearn.manifold import TSNE\n",
    "from sklearn.cluster import DBSCAN"
   ]
  },
  {
   "cell_type": "code",
   "execution_count": 2,
   "id": "7a125b6d-6d83-4d81-a305-d50fcbcddfd2",
   "metadata": {},
   "outputs": [],
   "source": [
    "# Import data\n",
    "heroes_attributes_df = pd.read_csv('heroes_attributes')"
   ]
  },
  {
   "cell_type": "code",
   "execution_count": 3,
   "id": "434e6a14-552b-47dd-8da9-5a8769eb3683",
   "metadata": {},
   "outputs": [
    {
     "data": {
      "text/html": [
       "<div>\n",
       "<style scoped>\n",
       "    .dataframe tbody tr th:only-of-type {\n",
       "        vertical-align: middle;\n",
       "    }\n",
       "\n",
       "    .dataframe tbody tr th {\n",
       "        vertical-align: top;\n",
       "    }\n",
       "\n",
       "    .dataframe thead th {\n",
       "        text-align: right;\n",
       "    }\n",
       "</style>\n",
       "<table border=\"1\" class=\"dataframe\">\n",
       "  <thead>\n",
       "    <tr style=\"text-align: right;\">\n",
       "      <th></th>\n",
       "      <th>Unnamed: 0</th>\n",
       "      <th>name</th>\n",
       "      <th>link</th>\n",
       "      <th>BaseStrength</th>\n",
       "      <th>BaseAgility</th>\n",
       "      <th>BaseInteligence</th>\n",
       "      <th>GainStrength</th>\n",
       "      <th>GainAgility</th>\n",
       "      <th>GainInteligence</th>\n",
       "      <th>attack_time</th>\n",
       "      <th>...</th>\n",
       "      <th>Nuker</th>\n",
       "      <th>Disabler</th>\n",
       "      <th>Jungler</th>\n",
       "      <th>Durable</th>\n",
       "      <th>Escape</th>\n",
       "      <th>Pusher</th>\n",
       "      <th>Initiator</th>\n",
       "      <th>Attack_type</th>\n",
       "      <th>damage_start</th>\n",
       "      <th>damage_end</th>\n",
       "    </tr>\n",
       "  </thead>\n",
       "  <tbody>\n",
       "    <tr>\n",
       "      <th>0</th>\n",
       "      <td>0</td>\n",
       "      <td>abaddon</td>\n",
       "      <td>https://www.dota2.com/hero/abaddon</td>\n",
       "      <td>22.0</td>\n",
       "      <td>23.0</td>\n",
       "      <td>18.0</td>\n",
       "      <td>2.6</td>\n",
       "      <td>1.5</td>\n",
       "      <td>2.0</td>\n",
       "      <td>1.7</td>\n",
       "      <td>...</td>\n",
       "      <td>0.0</td>\n",
       "      <td>0.0</td>\n",
       "      <td>0.0</td>\n",
       "      <td>66.6</td>\n",
       "      <td>0.0</td>\n",
       "      <td>0.0</td>\n",
       "      <td>0.0</td>\n",
       "      <td>0</td>\n",
       "      <td>50</td>\n",
       "      <td>60</td>\n",
       "    </tr>\n",
       "    <tr>\n",
       "      <th>1</th>\n",
       "      <td>1</td>\n",
       "      <td>alchemist</td>\n",
       "      <td>https://www.dota2.com/hero/alchemist</td>\n",
       "      <td>23.0</td>\n",
       "      <td>22.0</td>\n",
       "      <td>25.0</td>\n",
       "      <td>2.7</td>\n",
       "      <td>1.5</td>\n",
       "      <td>1.8</td>\n",
       "      <td>1.7</td>\n",
       "      <td>...</td>\n",
       "      <td>33.3</td>\n",
       "      <td>33.3</td>\n",
       "      <td>0.0</td>\n",
       "      <td>66.6</td>\n",
       "      <td>0.0</td>\n",
       "      <td>0.0</td>\n",
       "      <td>33.3</td>\n",
       "      <td>0</td>\n",
       "      <td>50</td>\n",
       "      <td>56</td>\n",
       "    </tr>\n",
       "    <tr>\n",
       "      <th>2</th>\n",
       "      <td>2</td>\n",
       "      <td>ancientapparition</td>\n",
       "      <td>https://www.dota2.com/hero/ancientapparition</td>\n",
       "      <td>20.0</td>\n",
       "      <td>20.0</td>\n",
       "      <td>23.0</td>\n",
       "      <td>1.9</td>\n",
       "      <td>2.2</td>\n",
       "      <td>3.4</td>\n",
       "      <td>1.7</td>\n",
       "      <td>...</td>\n",
       "      <td>33.3</td>\n",
       "      <td>33.3</td>\n",
       "      <td>0.0</td>\n",
       "      <td>0.0</td>\n",
       "      <td>0.0</td>\n",
       "      <td>0.0</td>\n",
       "      <td>0.0</td>\n",
       "      <td>1</td>\n",
       "      <td>44</td>\n",
       "      <td>54</td>\n",
       "    </tr>\n",
       "    <tr>\n",
       "      <th>3</th>\n",
       "      <td>3</td>\n",
       "      <td>anti-mage</td>\n",
       "      <td>https://www.dota2.com/hero/anti-mage</td>\n",
       "      <td>21.0</td>\n",
       "      <td>24.0</td>\n",
       "      <td>12.0</td>\n",
       "      <td>1.6</td>\n",
       "      <td>2.8</td>\n",
       "      <td>1.8</td>\n",
       "      <td>1.4</td>\n",
       "      <td>...</td>\n",
       "      <td>33.3</td>\n",
       "      <td>0.0</td>\n",
       "      <td>0.0</td>\n",
       "      <td>0.0</td>\n",
       "      <td>99.9</td>\n",
       "      <td>0.0</td>\n",
       "      <td>0.0</td>\n",
       "      <td>0</td>\n",
       "      <td>53</td>\n",
       "      <td>57</td>\n",
       "    </tr>\n",
       "    <tr>\n",
       "      <th>4</th>\n",
       "      <td>4</td>\n",
       "      <td>arcwarden</td>\n",
       "      <td>https://www.dota2.com/hero/arcwarden</td>\n",
       "      <td>22.0</td>\n",
       "      <td>20.0</td>\n",
       "      <td>24.0</td>\n",
       "      <td>2.6</td>\n",
       "      <td>3.0</td>\n",
       "      <td>2.6</td>\n",
       "      <td>1.7</td>\n",
       "      <td>...</td>\n",
       "      <td>33.3</td>\n",
       "      <td>0.0</td>\n",
       "      <td>0.0</td>\n",
       "      <td>0.0</td>\n",
       "      <td>99.9</td>\n",
       "      <td>0.0</td>\n",
       "      <td>0.0</td>\n",
       "      <td>1</td>\n",
       "      <td>51</td>\n",
       "      <td>57</td>\n",
       "    </tr>\n",
       "    <tr>\n",
       "      <th>...</th>\n",
       "      <td>...</td>\n",
       "      <td>...</td>\n",
       "      <td>...</td>\n",
       "      <td>...</td>\n",
       "      <td>...</td>\n",
       "      <td>...</td>\n",
       "      <td>...</td>\n",
       "      <td>...</td>\n",
       "      <td>...</td>\n",
       "      <td>...</td>\n",
       "      <td>...</td>\n",
       "      <td>...</td>\n",
       "      <td>...</td>\n",
       "      <td>...</td>\n",
       "      <td>...</td>\n",
       "      <td>...</td>\n",
       "      <td>...</td>\n",
       "      <td>...</td>\n",
       "      <td>...</td>\n",
       "      <td>...</td>\n",
       "      <td>...</td>\n",
       "    </tr>\n",
       "    <tr>\n",
       "      <th>118</th>\n",
       "      <td>118</td>\n",
       "      <td>windranger</td>\n",
       "      <td>https://www.dota2.com/hero/windranger</td>\n",
       "      <td>18.0</td>\n",
       "      <td>17.0</td>\n",
       "      <td>18.0</td>\n",
       "      <td>2.6</td>\n",
       "      <td>1.4</td>\n",
       "      <td>3.6</td>\n",
       "      <td>1.5</td>\n",
       "      <td>...</td>\n",
       "      <td>33.3</td>\n",
       "      <td>33.3</td>\n",
       "      <td>0.0</td>\n",
       "      <td>0.0</td>\n",
       "      <td>33.3</td>\n",
       "      <td>0.0</td>\n",
       "      <td>0.0</td>\n",
       "      <td>1</td>\n",
       "      <td>42</td>\n",
       "      <td>54</td>\n",
       "    </tr>\n",
       "    <tr>\n",
       "      <th>119</th>\n",
       "      <td>119</td>\n",
       "      <td>winterwyvern</td>\n",
       "      <td>https://www.dota2.com/hero/winterwyvern</td>\n",
       "      <td>22.0</td>\n",
       "      <td>16.0</td>\n",
       "      <td>26.0</td>\n",
       "      <td>2.5</td>\n",
       "      <td>1.7</td>\n",
       "      <td>3.6</td>\n",
       "      <td>1.7</td>\n",
       "      <td>...</td>\n",
       "      <td>33.3</td>\n",
       "      <td>66.6</td>\n",
       "      <td>0.0</td>\n",
       "      <td>0.0</td>\n",
       "      <td>0.0</td>\n",
       "      <td>0.0</td>\n",
       "      <td>0.0</td>\n",
       "      <td>1</td>\n",
       "      <td>40</td>\n",
       "      <td>47</td>\n",
       "    </tr>\n",
       "    <tr>\n",
       "      <th>120</th>\n",
       "      <td>120</td>\n",
       "      <td>witchdoctor</td>\n",
       "      <td>https://www.dota2.com/hero/witchdoctor</td>\n",
       "      <td>18.0</td>\n",
       "      <td>13.0</td>\n",
       "      <td>22.0</td>\n",
       "      <td>2.3</td>\n",
       "      <td>1.4</td>\n",
       "      <td>3.3</td>\n",
       "      <td>1.7</td>\n",
       "      <td>...</td>\n",
       "      <td>66.6</td>\n",
       "      <td>33.3</td>\n",
       "      <td>0.0</td>\n",
       "      <td>0.0</td>\n",
       "      <td>0.0</td>\n",
       "      <td>0.0</td>\n",
       "      <td>0.0</td>\n",
       "      <td>1</td>\n",
       "      <td>51</td>\n",
       "      <td>61</td>\n",
       "    </tr>\n",
       "    <tr>\n",
       "      <th>121</th>\n",
       "      <td>121</td>\n",
       "      <td>wraithking</td>\n",
       "      <td>https://www.dota2.com/hero/wraithking</td>\n",
       "      <td>22.0</td>\n",
       "      <td>16.0</td>\n",
       "      <td>18.0</td>\n",
       "      <td>3.0</td>\n",
       "      <td>1.7</td>\n",
       "      <td>1.6</td>\n",
       "      <td>1.7</td>\n",
       "      <td>...</td>\n",
       "      <td>0.0</td>\n",
       "      <td>66.6</td>\n",
       "      <td>0.0</td>\n",
       "      <td>99.9</td>\n",
       "      <td>0.0</td>\n",
       "      <td>0.0</td>\n",
       "      <td>33.3</td>\n",
       "      <td>0</td>\n",
       "      <td>60</td>\n",
       "      <td>62</td>\n",
       "    </tr>\n",
       "    <tr>\n",
       "      <th>122</th>\n",
       "      <td>122</td>\n",
       "      <td>zeus</td>\n",
       "      <td>https://www.dota2.com/hero/zeus</td>\n",
       "      <td>19.0</td>\n",
       "      <td>11.0</td>\n",
       "      <td>22.0</td>\n",
       "      <td>2.1</td>\n",
       "      <td>1.2</td>\n",
       "      <td>3.3</td>\n",
       "      <td>1.7</td>\n",
       "      <td>...</td>\n",
       "      <td>99.9</td>\n",
       "      <td>0.0</td>\n",
       "      <td>0.0</td>\n",
       "      <td>0.0</td>\n",
       "      <td>0.0</td>\n",
       "      <td>0.0</td>\n",
       "      <td>0.0</td>\n",
       "      <td>1</td>\n",
       "      <td>55</td>\n",
       "      <td>63</td>\n",
       "    </tr>\n",
       "  </tbody>\n",
       "</table>\n",
       "<p>123 rows × 29 columns</p>\n",
       "</div>"
      ],
      "text/plain": [
       "     Unnamed: 0               name  \\\n",
       "0             0            abaddon   \n",
       "1             1          alchemist   \n",
       "2             2  ancientapparition   \n",
       "3             3          anti-mage   \n",
       "4             4          arcwarden   \n",
       "..          ...                ...   \n",
       "118         118         windranger   \n",
       "119         119       winterwyvern   \n",
       "120         120        witchdoctor   \n",
       "121         121         wraithking   \n",
       "122         122               zeus   \n",
       "\n",
       "                                             link  BaseStrength  BaseAgility  \\\n",
       "0              https://www.dota2.com/hero/abaddon          22.0         23.0   \n",
       "1            https://www.dota2.com/hero/alchemist          23.0         22.0   \n",
       "2    https://www.dota2.com/hero/ancientapparition          20.0         20.0   \n",
       "3            https://www.dota2.com/hero/anti-mage          21.0         24.0   \n",
       "4            https://www.dota2.com/hero/arcwarden          22.0         20.0   \n",
       "..                                            ...           ...          ...   \n",
       "118         https://www.dota2.com/hero/windranger          18.0         17.0   \n",
       "119       https://www.dota2.com/hero/winterwyvern          22.0         16.0   \n",
       "120        https://www.dota2.com/hero/witchdoctor          18.0         13.0   \n",
       "121         https://www.dota2.com/hero/wraithking          22.0         16.0   \n",
       "122               https://www.dota2.com/hero/zeus          19.0         11.0   \n",
       "\n",
       "     BaseInteligence  GainStrength  GainAgility  GainInteligence  attack_time  \\\n",
       "0               18.0           2.6          1.5              2.0          1.7   \n",
       "1               25.0           2.7          1.5              1.8          1.7   \n",
       "2               23.0           1.9          2.2              3.4          1.7   \n",
       "3               12.0           1.6          2.8              1.8          1.4   \n",
       "4               24.0           2.6          3.0              2.6          1.7   \n",
       "..               ...           ...          ...              ...          ...   \n",
       "118             18.0           2.6          1.4              3.6          1.5   \n",
       "119             26.0           2.5          1.7              3.6          1.7   \n",
       "120             22.0           2.3          1.4              3.3          1.7   \n",
       "121             18.0           3.0          1.7              1.6          1.7   \n",
       "122             22.0           2.1          1.2              3.3          1.7   \n",
       "\n",
       "     ...  Nuker  Disabler  Jungler  Durable  Escape  Pusher  Initiator  \\\n",
       "0    ...    0.0       0.0      0.0     66.6     0.0     0.0        0.0   \n",
       "1    ...   33.3      33.3      0.0     66.6     0.0     0.0       33.3   \n",
       "2    ...   33.3      33.3      0.0      0.0     0.0     0.0        0.0   \n",
       "3    ...   33.3       0.0      0.0      0.0    99.9     0.0        0.0   \n",
       "4    ...   33.3       0.0      0.0      0.0    99.9     0.0        0.0   \n",
       "..   ...    ...       ...      ...      ...     ...     ...        ...   \n",
       "118  ...   33.3      33.3      0.0      0.0    33.3     0.0        0.0   \n",
       "119  ...   33.3      66.6      0.0      0.0     0.0     0.0        0.0   \n",
       "120  ...   66.6      33.3      0.0      0.0     0.0     0.0        0.0   \n",
       "121  ...    0.0      66.6      0.0     99.9     0.0     0.0       33.3   \n",
       "122  ...   99.9       0.0      0.0      0.0     0.0     0.0        0.0   \n",
       "\n",
       "     Attack_type  damage_start  damage_end  \n",
       "0              0            50          60  \n",
       "1              0            50          56  \n",
       "2              1            44          54  \n",
       "3              0            53          57  \n",
       "4              1            51          57  \n",
       "..           ...           ...         ...  \n",
       "118            1            42          54  \n",
       "119            1            40          47  \n",
       "120            1            51          61  \n",
       "121            0            60          62  \n",
       "122            1            55          63  \n",
       "\n",
       "[123 rows x 29 columns]"
      ]
     },
     "execution_count": 3,
     "metadata": {},
     "output_type": "execute_result"
    }
   ],
   "source": [
    "heroes_attributes_df"
   ]
  },
  {
   "cell_type": "code",
   "execution_count": 4,
   "id": "eb9b78a3-1311-4a42-88be-b1032aacbf92",
   "metadata": {},
   "outputs": [
    {
     "name": "stdout",
     "output_type": "stream",
     "text": [
      "Size of input matrix is (123, 27), type of data is float64\n"
     ]
    }
   ],
   "source": [
    "# Get data to analyze\n",
    "heroes_name = heroes_attributes_df['name'].to_list()\n",
    "heroes_attributes = np.array(heroes_attributes_df.drop(columns=['name','link']))\n",
    "print('Size of input matrix is ' + str(heroes_attributes.shape) + ', type of data is ' + str(heroes_attributes.dtype))"
   ]
  },
  {
   "cell_type": "code",
   "execution_count": 5,
   "id": "274d861b-e7f3-4ca8-8359-24f4472a8620",
   "metadata": {},
   "outputs": [
    {
     "name": "stdout",
     "output_type": "stream",
     "text": [
      "Number of component: 6\n"
     ]
    }
   ],
   "source": [
    "# Get latent size\n",
    "svd = TruncatedSVD(n_components=27)\n",
    "svd.fit(heroes_attributes)\n",
    "n_comps = np.where(svd.explained_variance_ratio_.cumsum()<=0.99)[0][-1]\n",
    "print('Number of component: ' +  str(n_comps))"
   ]
  },
  {
   "cell_type": "code",
   "execution_count": 6,
   "id": "28b263c6-8f6a-4272-9752-bef0ae81f03d",
   "metadata": {},
   "outputs": [],
   "source": [
    "# Reduce data dimension\n",
    "svd = TruncatedSVD(n_components=n_comps)"
   ]
  },
  {
   "cell_type": "code",
   "execution_count": 7,
   "id": "9b2b36e9-4e0b-4cc2-9018-322771c78ca1",
   "metadata": {},
   "outputs": [
    {
     "data": {
      "text/plain": [
       "(123, 6)"
      ]
     },
     "execution_count": 7,
     "metadata": {},
     "output_type": "execute_result"
    }
   ],
   "source": [
    "reduced_data = svd.fit_transform(heroes_attributes)\n",
    "reduced_data.shape"
   ]
  },
  {
   "cell_type": "code",
   "execution_count": 8,
   "id": "8b154fc1-08f3-47b1-ba9d-659e5915645f",
   "metadata": {},
   "outputs": [
    {
     "data": {
      "text/plain": [
       "<matplotlib.image.AxesImage at 0x7f15674f9390>"
      ]
     },
     "execution_count": 8,
     "metadata": {},
     "output_type": "execute_result"
    },
    {
     "data": {
      "image/png": "[encoded data removed]",
      "text/plain": [
       "<Figure size 640x480 with 1 Axes>"
      ]
     },
     "metadata": {},
     "output_type": "display_data"
    }
   ],
   "source": [
    "from sklearn.metrics.pairwise import euclidean_distances\n",
    "\n",
    "# Compute distance between heroes\n",
    "dist = euclidean_distances(reduced_data)\n",
    "plt.imshow(dist)"
   ]
  },
  {
   "cell_type": "code",
   "execution_count": 9,
   "id": "af28573e-83aa-46c7-b11a-1021653154c4",
   "metadata": {},
   "outputs": [
    {
     "data": {
      "text/html": [
       "<div>\n",
       "<style scoped>\n",
       "    .dataframe tbody tr th:only-of-type {\n",
       "        vertical-align: middle;\n",
       "    }\n",
       "\n",
       "    .dataframe tbody tr th {\n",
       "        vertical-align: top;\n",
       "    }\n",
       "\n",
       "    .dataframe thead th {\n",
       "        text-align: right;\n",
       "    }\n",
       "</style>\n",
       "<table border=\"1\" class=\"dataframe\">\n",
       "  <thead>\n",
       "    <tr style=\"text-align: right;\">\n",
       "      <th></th>\n",
       "      <th>hero1</th>\n",
       "      <th>hero2</th>\n",
       "      <th>value</th>\n",
       "    </tr>\n",
       "  </thead>\n",
       "  <tbody>\n",
       "    <tr>\n",
       "      <th>0</th>\n",
       "      <td>abaddon</td>\n",
       "      <td>alchemist</td>\n",
       "      <td>20.304066</td>\n",
       "    </tr>\n",
       "    <tr>\n",
       "      <th>1</th>\n",
       "      <td>abaddon</td>\n",
       "      <td>ancientapparition</td>\n",
       "      <td>634.279117</td>\n",
       "    </tr>\n",
       "    <tr>\n",
       "      <th>2</th>\n",
       "      <td>abaddon</td>\n",
       "      <td>anti-mage</td>\n",
       "      <td>908.131970</td>\n",
       "    </tr>\n",
       "    <tr>\n",
       "      <th>3</th>\n",
       "      <td>abaddon</td>\n",
       "      <td>arcwarden</td>\n",
       "      <td>480.412843</td>\n",
       "    </tr>\n",
       "    <tr>\n",
       "      <th>4</th>\n",
       "      <td>abaddon</td>\n",
       "      <td>axe</td>\n",
       "      <td>87.086551</td>\n",
       "    </tr>\n",
       "    <tr>\n",
       "      <th>...</th>\n",
       "      <td>...</td>\n",
       "      <td>...</td>\n",
       "      <td>...</td>\n",
       "    </tr>\n",
       "    <tr>\n",
       "      <th>7498</th>\n",
       "      <td>winterwyvern</td>\n",
       "      <td>wraithking</td>\n",
       "      <td>764.447823</td>\n",
       "    </tr>\n",
       "    <tr>\n",
       "      <th>7499</th>\n",
       "      <td>winterwyvern</td>\n",
       "      <td>zeus</td>\n",
       "      <td>411.577679</td>\n",
       "    </tr>\n",
       "    <tr>\n",
       "      <th>7500</th>\n",
       "      <td>witchdoctor</td>\n",
       "      <td>wraithking</td>\n",
       "      <td>1273.740567</td>\n",
       "    </tr>\n",
       "    <tr>\n",
       "      <th>7501</th>\n",
       "      <td>witchdoctor</td>\n",
       "      <td>zeus</td>\n",
       "      <td>211.249175</td>\n",
       "    </tr>\n",
       "    <tr>\n",
       "      <th>7502</th>\n",
       "      <td>wraithking</td>\n",
       "      <td>zeus</td>\n",
       "      <td>1130.272321</td>\n",
       "    </tr>\n",
       "  </tbody>\n",
       "</table>\n",
       "<p>7503 rows × 3 columns</p>\n",
       "</div>"
      ],
      "text/plain": [
       "             hero1              hero2        value\n",
       "0          abaddon          alchemist    20.304066\n",
       "1          abaddon  ancientapparition   634.279117\n",
       "2          abaddon          anti-mage   908.131970\n",
       "3          abaddon          arcwarden   480.412843\n",
       "4          abaddon                axe    87.086551\n",
       "...            ...                ...          ...\n",
       "7498  winterwyvern         wraithking   764.447823\n",
       "7499  winterwyvern               zeus   411.577679\n",
       "7500   witchdoctor         wraithking  1273.740567\n",
       "7501   witchdoctor               zeus   211.249175\n",
       "7502    wraithking               zeus  1130.272321\n",
       "\n",
       "[7503 rows x 3 columns]"
      ]
     },
     "execution_count": 9,
     "metadata": {},
     "output_type": "execute_result"
    }
   ],
   "source": [
    "relationship = []\n",
    "\n",
    "# create graph\n",
    "for i in range(0,len(heroes_name)):\n",
    "    for j in range(i+1,len(heroes_name)):\n",
    "        relationship.append({'hero1': heroes_name[i], 'hero2': heroes_name[j], 'value': dist[i,j]})\n",
    "\n",
    "# Create pd\n",
    "relationship_df = pd.DataFrame(relationship)\n",
    "relationship_df"
   ]
  },
  {
   "cell_type": "code",
   "execution_count": 10,
   "id": "eafa487e-74d2-4b0c-906b-7a1fa0f769f6",
   "metadata": {},
   "outputs": [
    {
     "data": {
      "text/plain": [
       "(array([2659., 2966.,  837.,  576.,  184.,   53.,  155.,   53.,    0.,\n",
       "          20.]),\n",
       " array([  12.39449813,  314.29722678,  616.19995543,  918.10268409,\n",
       "        1220.00541274, 1521.90814139, 1823.81087005, 2125.7135987 ,\n",
       "        2427.61632735, 2729.51905601, 3031.42178466]),\n",
       " <BarContainer object of 10 artists>)"
      ]
     },
     "execution_count": 10,
     "metadata": {},
     "output_type": "execute_result"
    },
    {
     "data": {
      "image/png": "[encoded data removed]",
      "text/plain": [
       "<Figure size 640x480 with 1 Axes>"
      ]
     },
     "metadata": {},
     "output_type": "display_data"
    }
   ],
   "source": [
    "# visualize outlier\n",
    "plt.hist(relationship_df['value'].to_list())"
   ]
  },
  {
   "cell_type": "code",
   "execution_count": 11,
   "id": "070f21bf-4afe-4bb9-9f18-38f09aeb3f41",
   "metadata": {},
   "outputs": [],
   "source": [
    "# remove outlier\n",
    "relationship_df = relationship_df.drop(index = np.arange(0,len(relationship_df['value']))[relationship_df['value']>=250])\n",
    "\n",
    "relationship_df['value'] = relationship_df['value'].apply(lambda x: 250/x)"
   ]
  },
  {
   "cell_type": "markdown",
   "id": "bf1cf7ab-d4c4-464a-861c-edf47386d219",
   "metadata": {},
   "source": [
    "# Graph analysis and visualization #"
   ]
  },
  {
   "cell_type": "code",
   "execution_count": 12,
   "id": "b418cdcf-50ed-456e-94a9-4f9cef814d0f",
   "metadata": {},
   "outputs": [],
   "source": [
    "import networkx as nx"
   ]
  },
  {
   "cell_type": "code",
   "execution_count": 13,
   "id": "d742abe2-7f0e-42c3-a503-02cb24f40184",
   "metadata": {},
   "outputs": [],
   "source": [
    "# Create a graph from a pandas datafram\n",
    "G = nx.from_pandas_edgelist(relationship_df,\n",
    "                            source='hero1',\n",
    "                            target='hero2',\n",
    "                            edge_attr='value',\n",
    "                            create_using=nx.Graph())"
   ]
  },
  {
   "cell_type": "markdown",
   "id": "0783ce71-a667-410b-9c1b-26bc35122215",
   "metadata": {},
   "source": [
    "## Graph visualization - networkx - pyvis ##"
   ]
  },
  {
   "cell_type": "code",
   "execution_count": 14,
   "id": "7d12a2ee-2e10-484b-b5fb-16c28b36b262",
   "metadata": {},
   "outputs": [
    {
     "name": "stdout",
     "output_type": "stream",
     "text": [
      "Local cdn resources have problems on chrome/safari when used in jupyter-notebook. \n"
     ]
    },
    {
     "data": {
      "text/html": [
       "\n",
       "        <iframe\n",
       "            width=\"1000px\"\n",
       "            height=\"700px\"\n",
       "            src=\"dota_heroes.html\"\n",
       "            frameborder=\"0\"\n",
       "            allowfullscreen\n",
       "            \n",
       "        ></iframe>\n",
       "        "
      ],
      "text/plain": [
       "<IPython.lib.display.IFrame at 0x7f15c49b3eb0>"
      ]
     },
     "execution_count": 14,
     "metadata": {},
     "output_type": "execute_result"
    }
   ],
   "source": [
    "from pyvis.network import Network\n",
    "\n",
    "# visualize graph\n",
    "net = Network(notebook=True, width=\"1000px\", height=\"700px\", bgcolor=\"#222222\", font_color='white')\n",
    "\n",
    "net.from_nx(G)\n",
    "net.show(\"dota_heroes.html\")"
   ]
  },
  {
   "cell_type": "code",
   "execution_count": 27,
   "id": "1c68445c-9793-47dc-955b-017168621ce6",
   "metadata": {},
   "outputs": [],
   "source": [
    "# get node attribute\n",
    "degree_dict = nx.degree_centrality(G)"
   ]
  },
  {
   "cell_type": "code",
   "execution_count": 49,
   "id": "3617b61c-e172-4347-8d24-443d37877b0b",
   "metadata": {},
   "outputs": [
    {
     "data": {
      "text/plain": [
       "<AxesSubplot: >"
      ]
     },
     "execution_count": 49,
     "metadata": {},
     "output_type": "execute_result"
    },
    {
     "data": {
      "image/png": "[encoded data removed]",
      "text/plain": [
       "<Figure size 640x480 with 1 Axes>"
      ]
     },
     "metadata": {},
     "output_type": "display_data"
    },
    {
     "data": {
      "image/png": "[encoded data removed]",
      "text/plain": [
       "<Figure size 640x480 with 1 Axes>"
      ]
     },
     "metadata": {},
     "output_type": "display_data"
    }
   ],
   "source": [
    "degree_df = pd.DataFrame.from_dict(degree_dict, orient='index', columns=['centrality'])\n",
    "# Plot top 10 nodes\n",
    "degree_df.sort_values('centrality', ascending=False)[0:9].plot(kind='bar')\n",
    "# Plot top 10 nodes\n",
    "degree_df.sort_values('centrality', ascending=True)[0:9].plot(kind='bar')"
   ]
  },
  {
   "cell_type": "code",
   "execution_count": 50,
   "id": "1e783e05-fd22-4867-8a47-fc803862cb3c",
   "metadata": {},
   "outputs": [],
   "source": [
    "# save centrality measure\n",
    "nx.set_node_attributes(G, degree_dict, 'degre_centrality')"
   ]
  },
  {
   "cell_type": "markdown",
   "id": "c6f55335-d1c2-4a8e-9d72-0a868012bca6",
   "metadata": {},
   "source": [
    "# Community detection #"
   ]
  },
  {
   "cell_type": "code",
   "execution_count": 51,
   "id": "bfbfa58b-7ded-4695-93dd-4b81dea0e185",
   "metadata": {},
   "outputs": [],
   "source": [
    "import community as community_louvain"
   ]
  },
  {
   "cell_type": "code",
   "execution_count": 52,
   "id": "d2b829a0-e14f-489b-8bd7-89b97227e499",
   "metadata": {},
   "outputs": [],
   "source": [
    "communities = community_louvain.best_partition(G)"
   ]
  },
  {
   "cell_type": "code",
   "execution_count": 53,
   "id": "72f70ebd-06fa-41b1-8732-a82db285e9d2",
   "metadata": {},
   "outputs": [
    {
     "data": {
      "text/plain": [
       "{'abaddon': 2,\n",
       " 'alchemist': 2,\n",
       " 'axe': 2,\n",
       " 'batrider': 1,\n",
       " 'bloodseeker': 2,\n",
       " 'bountyhunter': 2,\n",
       " 'brewmaster': 2,\n",
       " 'bristleback': 2,\n",
       " 'broodmother': 2,\n",
       " 'centaurwarrunner': 2,\n",
       " 'chaosknight': 2,\n",
       " 'clockwerk': 2,\n",
       " 'darkseer': 2,\n",
       " 'dawnbreaker': 2,\n",
       " 'doom': 2,\n",
       " 'dragonknight': 2,\n",
       " 'earthspirit': 2,\n",
       " 'eldertitan': 2,\n",
       " 'emberspirit': 2,\n",
       " 'facelessvoid': 2,\n",
       " 'kunkka': 2,\n",
       " 'legioncommander': 2,\n",
       " 'lifestealer': 2,\n",
       " 'luna': 2,\n",
       " 'lycan': 2,\n",
       " 'magnus': 2,\n",
       " 'mars': 2,\n",
       " 'meepo': 2,\n",
       " 'monkeyking': 2,\n",
       " 'nagasiren': 2,\n",
       " 'nightstalker': 2,\n",
       " 'nyxassassin': 2,\n",
       " 'ogremagi': 2,\n",
       " 'omniknight': 2,\n",
       " 'pangolier': 2,\n",
       " 'phantomassassin': 2,\n",
       " 'phantomlancer': 2,\n",
       " 'primalbeast': 2,\n",
       " 'riki': 2,\n",
       " 'sandking': 2,\n",
       " 'spectre': 2,\n",
       " 'spiritbreaker': 2,\n",
       " 'templarassassin': 2,\n",
       " 'terrorblade': 2,\n",
       " 'tidehunter': 2,\n",
       " 'timbersaw': 2,\n",
       " 'tiny': 2,\n",
       " 'treantprotector': 2,\n",
       " 'tusk': 2,\n",
       " 'underlord': 2,\n",
       " 'undying': 2,\n",
       " 'ursa': 2,\n",
       " 'voidspirit': 2,\n",
       " 'ancientapparition': 0,\n",
       " 'chen': 0,\n",
       " 'darkwillow': 0,\n",
       " 'dazzle': 0,\n",
       " 'disruptor': 0,\n",
       " 'drowranger': 0,\n",
       " 'io': 0,\n",
       " 'medusa': 0,\n",
       " \"nature'sprophet\": 0,\n",
       " 'necrophos': 0,\n",
       " 'phoenix': 0,\n",
       " 'rubick': 0,\n",
       " 'shadowfiend': 0,\n",
       " 'trollwarlord': 0,\n",
       " 'viper': 0,\n",
       " 'visage': 0,\n",
       " 'warlock': 0,\n",
       " 'windranger': 0,\n",
       " 'witchdoctor': 0,\n",
       " 'anti-mage': 3,\n",
       " 'beastmaster': 3,\n",
       " 'earthshaker': 3,\n",
       " 'juggernaut': 3,\n",
       " 'marci': 3,\n",
       " 'pudge': 3,\n",
       " 'slardar': 3,\n",
       " 'slark': 3,\n",
       " 'sven': 3,\n",
       " 'wraithking': 3,\n",
       " 'arcwarden': 1,\n",
       " 'clinkz': 1,\n",
       " 'crystalmaiden': 1,\n",
       " 'deathprophet': 1,\n",
       " 'enchantress': 1,\n",
       " 'enigma': 1,\n",
       " 'grimstroke': 1,\n",
       " 'invoker': 1,\n",
       " 'keeperofthelight': 1,\n",
       " 'leshrac': 1,\n",
       " 'lich': 1,\n",
       " 'lina': 1,\n",
       " 'lion': 1,\n",
       " 'lonedruid': 1,\n",
       " 'mirana': 1,\n",
       " 'oracle': 1,\n",
       " 'outworlddestroyer': 1,\n",
       " 'puck': 1,\n",
       " 'pugna': 1,\n",
       " 'shadowdemon': 1,\n",
       " 'silencer': 1,\n",
       " 'skywrathmage': 1,\n",
       " 'techies': 1,\n",
       " 'tinker': 1,\n",
       " 'venomancer': 1,\n",
       " 'weaver': 1,\n",
       " 'bane': 1,\n",
       " 'jakiro': 0,\n",
       " 'shadowshaman': 1,\n",
       " 'winterwyvern': 1,\n",
       " 'zeus': 0,\n",
       " 'stormspirit': 0,\n",
       " 'morphling': 0,\n",
       " 'gyrocopter': 4,\n",
       " 'sniper': 4,\n",
       " 'hoodwink': 5,\n",
       " 'snapfire': 5,\n",
       " 'huskar': 0,\n",
       " 'queenofpain': 0,\n",
       " 'vengefulspirit': 0,\n",
       " 'razor': 5}"
      ]
     },
     "execution_count": 53,
     "metadata": {},
     "output_type": "execute_result"
    }
   ],
   "source": [
    "communities"
   ]
  },
  {
   "cell_type": "code",
   "execution_count": 54,
   "id": "e8f193c2-e39d-4348-93c9-d810147f7f52",
   "metadata": {},
   "outputs": [],
   "source": [
    "nx.set_node_attributes(G, communities, 'group')"
   ]
  },
  {
   "cell_type": "code",
   "execution_count": 55,
   "id": "2db870b6-8f0e-4b8b-98c6-838bceca8ea6",
   "metadata": {},
   "outputs": [
    {
     "name": "stdout",
     "output_type": "stream",
     "text": [
      "Local cdn resources have problems on chrome/safari when used in jupyter-notebook. \n"
     ]
    },
    {
     "data": {
      "text/html": [
       "\n",
       "        <iframe\n",
       "            width=\"1000px\"\n",
       "            height=\"700px\"\n",
       "            src=\"dota_heroes_com.html\"\n",
       "            frameborder=\"0\"\n",
       "            allowfullscreen\n",
       "            \n",
       "        ></iframe>\n",
       "        "
      ],
      "text/plain": [
       "<IPython.lib.display.IFrame at 0x7f155db27670>"
      ]
     },
     "execution_count": 55,
     "metadata": {},
     "output_type": "execute_result"
    }
   ],
   "source": [
    "# visualize graph\n",
    "com_net = Network(notebook=True, width=\"1000px\", height=\"700px\", bgcolor=\"#222222\", font_color='white')\n",
    "\n",
    "com_net.from_nx(G)\n",
    "com_net.show(\"dota_heroes_com.html\")"
   ]
  },
  {
   "cell_type": "code",
   "execution_count": null,
   "id": "db7c6f2b-4fec-498e-a56c-1de1f23e1737",
   "metadata": {},
   "outputs": [],
   "source": []
  }
 ],
 "metadata": {
  "kernelspec": {
   "display_name": "Python 3 (ipykernel)",
   "language": "python",
   "name": "python3"
  },
  "language_info": {
   "codemirror_mode": {
    "name": "ipython",
    "version": 3
   },
   "file_extension": ".py",
   "mimetype": "text/x-python",
   "name": "python",
   "nbconvert_exporter": "python",
   "pygments_lexer": "ipython3",
   "version": "3.10.6"
  }
 },
 "nbformat": 4,
 "nbformat_minor": 5
}
